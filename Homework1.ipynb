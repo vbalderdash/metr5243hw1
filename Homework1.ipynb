{
 "cells": [
  {
   "cell_type": "code",
   "execution_count": 1,
   "metadata": {},
   "outputs": [
    {
     "name": "stdout",
     "output_type": "stream",
     "text": [
      "Populating the interactive namespace from numpy and matplotlib\n"
     ]
    }
   ],
   "source": [
    "%pylab inline"
   ]
  },
  {
   "cell_type": "code",
   "execution_count": 2,
   "metadata": {
    "collapsed": true
   },
   "outputs": [],
   "source": [
    "import numpy as np\n",
    "import matplotlib.pyplot as plt"
   ]
  },
  {
   "cell_type": "markdown",
   "metadata": {},
   "source": [
    "ATMO 5243 - Homework #1\n",
    "=======================\n",
    "\n",
    "Due 12 September 2019\n",
    "--------------------\n",
    "\n",
    "For this assignment, please email the instructors the notebook and any support code to turn it in by midnight on the due date. \n",
    "\n",
    "When working these problems, you will need to code up equations for and make plots of various electrostatic quantities. Turn in an IPython notebook with your figures embedded (`%pylab inline` in the first cell), which we can use to reproduce your results.\n",
    "\n",
    "Do not copy-paste blocks of code -- if you need to repeat a calculation with different values, write a function that repeats operations that follow a certain template. Those functions can be in the notebook itself, or in an accompanying `.py` file that you import into the notebook and turn in with the notebook itself. See function example below."
   ]
  },
  {
   "cell_type": "code",
   "execution_count": 3,
   "metadata": {},
   "outputs": [
    {
     "name": "stdout",
     "output_type": "stream",
     "text": [
      "3\n",
      "[2 3 4]\n"
     ]
    }
   ],
   "source": [
    "# simple function example\n",
    "def sums(a, b, c):\n",
    "    newvalue = a+b+c\n",
    "    return newvalue\n",
    "\n",
    "print (sums(1,1,1))\n",
    "print (sums(np.array([1,2,3]), np.array([1,1,1]), np.array([0,0,0])))"
   ]
  },
  {
   "cell_type": "markdown",
   "metadata": {},
   "source": [
    "Provide any needed discussion as commentary in the notebook. A quick overview of entering equations and Markdown will be disseminated with this homework notebook. Choose \"Cell-Cell Type-Markdown\" in the Jupyter notebook toolbar with change the cell type to Markdown. The cell text will be formatted when the cell is executed [shift-enter]. The formatted Markdown cell can be editted at any time by double clicking.\n",
    "\n",
    "Extra task highly suggested but not required: Use git to commit modifications to your notebook and any associated code as you develop it. Useful reference: https://guides.github.com/introduction/git-handbook/"
   ]
  },
  {
   "cell_type": "markdown",
   "metadata": {},
   "source": [
    "Problem 1\n",
    "---------\n",
    "\n",
    "Derive expressions for the electric field at height $z$ above a conducting plane produced along the axis of radial symmetry for a \n",
    "\n",
    "**a)** point charge with charge $q_i$ at height $z_i$\n",
    "\n",
    "**b)** $H_i$ km thick cylindrical slab of radius $R_i$ with charge distributed throughout the volume centered at $z_i$. Since we have only applied Gauss's Law to very simple geometries in class, the derivation of the electric field for a cylindrical slab is provided below but will need to be expanded to include $z$ within the cylinder. Hint: subdivide the cylinder into parts at $z$.\n",
    "\n",
    "Give an expression for the electric field along the central axis of a vertical column that is comprised of four\n",
    "\n",
    "**c)** point charges at the heights in d)\n",
    "\n",
    "**d)** cylinders of charge of thickness $H_i$ = 2, 2, 2, 1 and $R_i = $ 6 km\n",
    "centered at $z_i$ = 5 km, 7 km, 9 km, and 10.5 km.\n",
    "\n",
    "**e)** Write a program that plots the electric field profiles for total charge amounts of \n",
    "\n",
    "> **1)** 10, -50, 50, -15 C\n",
    "\n",
    "> **2)** 12.5, -60, 40, -20 C\n",
    "\n",
    "> **3)** 15, -45, 40, -20 C\n",
    "\n",
    "How do the E profiles compare? Which geometry would be more likely to result in lightning flash for the same amounts of net charge?\n",
    "\n",
    "When writing your code, think about making it easy to plot another few dozen charge distributions.\n",
    "\n",
    "**f)** Given any one of the examples in e), could the charge distribution change but still produce the same electric field at $z=0$? If so, how significant could the change be without an observable change in the electric field at $z=0$? What implications would this have?"
   ]
  },
  {
   "cell_type": "code",
   "execution_count": null,
   "metadata": {
    "collapsed": true
   },
   "outputs": [],
   "source": []
  },
  {
   "cell_type": "markdown",
   "metadata": {},
   "source": [
    "####  1b) derivation of the electric field outside of a cylinder of uniform charge along the axis of symmetry:  \n",
    "\n",
    "For a $H_i$ km thick slab cylinder of radius $R_i$ centered at $z_i$\n",
    "\n",
    "For simplicity, we'll assume an observing location of $(x,y,z)=(0,0,0)$ throughout the derivation \n",
    "\n",
    "$E = \\frac{1}{4\\pi\\epsilon}\\int_{Volume} \\frac{\\rho}{|r'|^2}\\hat{r'}d^3x = \\frac{1}{4\\pi\\epsilon}\\int_{Volume} \\frac{\\rho}{|r'|^3}\\vec{r'}d^3x$ where $r'$ is the distance from $z$ to all points within the charge-containing volume. The expression for $E$ is equivalent to $ \n",
    "     \\frac{1}{4\\pi\\epsilon}\\int_{Volume} \\frac{\\rho}{|r'|^3}\\vec{r'}r$ $drd\\psi dz$ in cylindrical coordinates where $r$ is radial distance and $\\psi$ aximuthal angle\n",
    "\n",
    "Other import relationships between coordinate systems:\n",
    "$|r'| = \\sqrt{x^2+y^2+z^2} = \\sqrt{r^2+z^2}$ in cylindrical coordinates\n",
    "\n",
    "and $\\vec{r'} = (0,0,0)-(x,y,z) = (-x, -y, -z) = (r, \\widehat{\\psi+\\pi}, -z)$ \n",
    "\n",
    "$\\rho_i$ is constant throughout the volume and can be removed from the integral over the charge-contining volume of the cylinder defined by azimuths from 0 to 2 $\\pi$, ranges 0 to $R_i$ and heights $z_i-\\frac{H_1}{2}$ to $z_i+\\frac{H_1}{2}$\n",
    "\n",
    "Due to symmetry along the $z$-axis, the total $\\widehat{\\psi}$ and $\\widehat{r}$ components of the electric field must be zero where $r$=0, so the expression for $E$ outside of the cylinder must be expressed purely in the $z$ direction (other components of $\\vec{r'}$ integrate to zero):\n",
    "\n",
    "$E_1 = \\frac{\\rho_i}{4\\pi\\epsilon}\\int\\limits_{0}^{2\\pi}\n",
    "        \\int\\limits_{z_i-\\frac{H_i}{2}}^{z_i+\\frac{H_i}{2}}\\int\\limits_{0}^{R_i}\n",
    "        \\frac{1}{|r^2+z^2|^\\frac{3}{2}}(-z)r$ $drdzd\\psi$\n",
    "        \n",
    "Integrating over $\\psi$:\n",
    "\n",
    "$E_1= \\frac{\\rho_i}{4\\pi\\epsilon}(2\\pi - 0)\\int\\limits_{z_i-\\frac{H_i}{2}}^{z_i+\\frac{H_i}{2}}\\int\\limits_{0}^{R_i}\n",
    "        \\frac{1}{|r^2+z^2|^\\frac{3}{2}}(-z)r$ $drdz$\n",
    "        \n",
    "Integrating over $r$:        \n",
    "        \n",
    "$E_1= \\frac{\\rho_1}{2\\epsilon}\\int\\limits_{z_i-\\frac{H_i}{2}}^{z_i+\\frac{H_i}{2}}\\left[\n",
    "        \\frac{-1}{|r^2+z^2|^\\frac{1}{2}}(-z)\\right]_0^{R_i}dz$\n",
    "        \n",
    "$E_1= \\frac{\\rho_1}{2\\epsilon}\\int\\limits_{z_i-\\frac{H_i}{2}}^{z_i+\\frac{H_i}{2}}\\left[\n",
    "        \\frac{-1}{|R_i^2+z^2|^\\frac{1}{2}}(-z) + |z|^{-1}(-z)\\right]dz$\n",
    "        \n",
    "$E_1= \\frac{\\rho_1}{2\\epsilon}\\int\\limits_{z_i-\\frac{H_i}{2}}^{z_i+\\frac{H_i}{2}}\\left[\n",
    "        \\frac{z}{|R_i^2+z^2|^\\frac{1}{2}} + sgn(-z)\\right]dz$\n",
    "        \n",
    "Integrating over $z$:\n",
    "\n",
    "$E_1= \\frac{\\rho_1}{2\\epsilon}\\left[\n",
    "        |R_i^2+(z)^2|^\\frac{1}{2} + z(sgn(-z))\\right]_{z_i-\\frac{H_i}{2}}^{z_i+\\frac{H_i}{2}}$\n",
    "        \n",
    "$E_1=  \\frac{\\rho_i}{2\\epsilon}\\left[\n",
    "        (R_i^2+(z_i+\\frac{H_i}{2})^2)^\\frac{1}{2}\n",
    "        - (R_i^2+(z_i-\\frac{H_i}{2})^2)^\\frac{1}{2}\n",
    "        + H_i\\left(\\frac{-z_i}{|z_i|}\\right)\\right]$\n",
    "      \n",
    "So generalized for a cylinder centered at $z_i$ from some point $z$ (instead of $z=0$):\n",
    "\n",
    "\\begin{eqnarray}\n",
    "E_i &=&  \\frac{\\rho_i}{2\\epsilon}\\left[\n",
    "        (R_i^2+((z_i+\\frac{H_i}{2})-z)^2)^\\frac{1}{2}\n",
    "        - (R_i^2+((z_i-\\frac{H_i}{2})-z)^2)^\\frac{1}{2}\n",
    "        + H_i\\left(\\frac{-z_i-(-z)}{|-z_i-(-z)|}\\right)\\right] \\\\\n",
    "        &=& \\frac{\\rho_i}{2\\epsilon}\\left[\n",
    "        (R_i^2+(z-(z_i+\\frac{H_i}{2}))^2)^\\frac{1}{2}\n",
    "        - (R_i^2+(z-(z_i-\\frac{H_i}{2}))^2)^\\frac{1}{2}\n",
    "        + H_i\\left(\\frac{z-z_i}{|z-z_i|}\\right)\\right]\n",
    "\\end{eqnarray}\n",
    "so long as z is outside of the cylinder \n",
    "        \n",
    "#### Note this is a starting point -- expand to include z within the cylinder"
   ]
  },
  {
   "cell_type": "markdown",
   "metadata": {},
   "source": [
    "### Example of solving the equation above in a function (which will be needed for 1e)\n",
    "\n",
    "Note this is a starting point"
   ]
  },
  {
   "cell_type": "code",
   "execution_count": 4,
   "metadata": {
    "collapsed": true
   },
   "outputs": [],
   "source": [
    "# Profile for a single cylinder calculation\n",
    "def c_profile(charge_h, charge_tot, charge_depth, heights, eps = 8.8541878176e-12, radius=6000.): #eps in F/m\n",
    "    \"\"\"\n",
    "    Calculates the electric field from a uniformly charged cylinder along an array of \n",
    "    heights along the same axis where the heights are not within the cylinder.\n",
    "    \n",
    "    Inputs\n",
    "    heights: an array of heights along the z-axis (in meters)\n",
    "    charge_h: the center height of the charge cylinder (in meters)\n",
    "    charge_depth: the depth or height of the cylinder (in meters)\n",
    "    charge_tot: total charge in the cylinder (in C/m3)\n",
    "    radius: the radius of the cylinder (in m)\n",
    "    eps: permitivity (in F/m)\n",
    "    \n",
    "    \"\"\"\n",
    "    \n",
    "    # Select all heights outside of the cylinder\n",
    "    selects = (heights<charge_h-charge_depth/2.)|(heights>charge_h+charge_depth/2.)\n",
    "    \n",
    "    # Start an array of zeros to hold the electric field value\n",
    "    field = np.zeros_like(heights)\n",
    "    \n",
    "    # Replace the values of the electric field array with the calculation derived above\n",
    "    # at all heights outside of the cylinder\n",
    "    field[selects] = ((radius**2+(heights[selects]-charge_h-charge_depth/2.)**2)**0.5\n",
    "                     -(radius**2+(heights[selects]-charge_h+charge_depth/2.)**2)**0.5\n",
    "                      +charge_depth*(heights[selects]-charge_h)/np.abs(heights[selects]-charge_h))\n",
    "    \n",
    "    # field[-selects] = [insert calculation for within the cyliner here]\n",
    "    \n",
    "    # Multiply terms by the first term (rho/(2*epsilon))\n",
    "    # Noting that the charge density is the total charge divided by the volume of the cylinder\n",
    "    field = field*(charge_tot/(np.pi*radius**2*charge_depth*2.*eps))\n",
    "    \n",
    "    return field"
   ]
  },
  {
   "cell_type": "markdown",
   "metadata": {},
   "source": [
    "### Plotting the output of the function above (as needed for 1e)\n",
    "\n",
    "Note this is a starting point -- only one cylinder is input below!"
   ]
  },
  {
   "cell_type": "code",
   "execution_count": 5,
   "metadata": {
    "collapsed": true
   },
   "outputs": [],
   "source": [
    "# Values in 1e array of heights to use for calculations\n",
    "cyl_z  = np.array([   5,   7,  9, 10.5])*1000 # given heights in m\n",
    "tot_charge = np.array([[  10, -50, 50,  -15], #given charges in C\n",
    "                   [12.5, -60, 40,  -20], \n",
    "                   [  15, -45, 40,  -20]]) \n",
    "case_label = ['Set 1', 'Set 2', 'Set 3']\n",
    "heights  = np.arange(0., 15000., 10.)\n",
    "cyl_depth = np.array([2,2,2,1])*1000."
   ]
  },
  {
   "cell_type": "code",
   "execution_count": 7,
   "metadata": {},
   "outputs": [
    {
     "data": {
      "image/png": "[encoded data removed]",
      "text/plain": [
       "<Figure size 432x288 with 1 Axes>"
      ]
     },
     "metadata": {},
     "output_type": "display_data"
    }
   ],
   "source": [
    "fig = plt.figure(2)\n",
    "ax1 = fig.add_subplot(111)\n",
    "\n",
    "# Plot reference 0 V/m line\n",
    "ax1.plot([0,0],[0,15],'k:')\n",
    "\n",
    "# Calculate and plot the profile \n",
    "case=0 # From the first set of charge values\n",
    "cylinder=0 # Using the first cylinder\n",
    "ax1.plot(c_profile(cyl_z[cylinder], \n",
    "                   tot_charge[case][cylinder], \n",
    "                   cyl_depth[cylinder], \n",
    "                   heights), heights/1000, label=case_label[case])\n",
    "plt.legend()\n",
    "plt.ylabel('Height (km)')\n",
    "plt.xlabel('Vertical Electric Field (V/m)')\n",
    "plt.show()"
   ]
  },
  {
   "cell_type": "markdown",
   "metadata": {},
   "source": [
    "Problem 2\n",
    "---------\n",
    "\n",
    "For the three point charge distributions above:\n",
    "\n",
    "**a)** Derive an analytic expression for E at a planar ground surface.\n",
    "\n",
    "**b)** Plot E with range from the center axis of the stack. \n",
    "\n",
    "**c)** Beyond what range does the field begin to be comparable to that of the background field of -100 V/m?\n",
    "\n",
    "**d)** How would the electric field profiles change near the thunderstorm if the charges were distributed over a volume instead of as points?"
   ]
  },
  {
   "cell_type": "markdown",
   "metadata": {},
   "source": [
    "Problem 3\n",
    "---------\n",
    "Describe a measurement that, if you could make it, would provide the total net charge inside a thunderstorm. What prevents this measurement from being made?\n"
   ]
  },
  {
   "cell_type": "code",
   "execution_count": null,
   "metadata": {
    "collapsed": true
   },
   "outputs": [],
   "source": []
  }
 ],
 "metadata": {
  "kernelspec": {
   "display_name": "Python 3",
   "language": "python",
   "name": "python3"
  },
  "language_info": {
   "codemirror_mode": {
    "name": "ipython",
    "version": 3
   },
   "file_extension": ".py",
   "mimetype": "text/x-python",
   "name": "python",
   "nbconvert_exporter": "python",
   "pygments_lexer": "ipython3",
   "version": "3.6.8"
  }
 },
 "nbformat": 4,
 "nbformat_minor": 1
}
