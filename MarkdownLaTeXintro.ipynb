{
 "cells": [
  {
   "cell_type": "markdown",
   "metadata": {},
   "source": [
    "# Using LaTeX and Markdown"
   ]
  },
  {
   "cell_type": "markdown",
   "metadata": {},
   "source": [
    "Markdown\n",
    "========\n",
    "\n",
    "Here's the [Markdown syntax](http://daringfireball.net/projects/markdown/basics) documentation. It's designed to make sense in monospaced ASCII, and then translate well to HTML.\n",
    "\n",
    "\n",
    "Notation\n",
    "--------\n",
    "There's simple and visually descriptive notation for things like *emphasis* and **even more emphasis**, `monospaced-font code`, headers, lists, blockqoutes, etc.\n",
    "\n",
    "New paragraphs are blank-line-delimited.\n"
   ]
  },
  {
   "cell_type": "markdown",
   "metadata": {},
   "source": [
    "# $\\LaTeX$"
   ]
  },
  {
   "cell_type": "markdown",
   "metadata": {},
   "source": [
    "A Markdown cell can also contain typeset equations. The IPython notebook uses a JavaScript implementation of LaTeX notation called [MathJax](http://www.mathjax.org). This is only a brief introduction to the most-useful syntax, but there is [much more detailed documentation online](http://meta.math.stackexchange.com/questions/5020/mathjax-basic-tutorial-and-quick-reference).\n",
    "\n",
    "LaTeX can be entered in-line with other text using double-dollar-signs like this: $y=x^2$, or it can also be broken out into separate equations."
   ]
  },
  {
   "cell_type": "markdown",
   "metadata": {},
   "source": [
    "\\begin{equation}\n",
    "y=x^2\n",
    "\\end{equation}"
   ]
  },
  {
   "cell_type": "markdown",
   "metadata": {},
   "source": [
    "Or align equal signs using `eqnarray`. Ampersands around the equal sign performs the alignment. Use `\\\\` to separate lines of equations."
   ]
  },
  {
   "cell_type": "markdown",
   "metadata": {},
   "source": [
    "\\begin{eqnarray}\n",
    "\\nabla^2 \\phi & = & -\\rho / \\epsilon_0 \\\\\n",
    "\\nabla \\cdot E & = & \\rho / \\epsilon_0 \\\\\n",
    "\\nabla \\times E &=& 0\n",
    "\\end{eqnarray}\n",
    "\n"
   ]
  },
  {
   "cell_type": "markdown",
   "metadata": {},
   "source": [
    "Subscripts and superscripts are given by `_` and `^`. Those will demarcate a single character, and if you need more than one character, put curly braces around the expression. \n",
    "\n",
    "Curly braces are LaTeX's way of performing operations on a chunk of stuff - sort of like how parentheses are used for function calls. Because parentheses are so common in math, LaTeX uses curly braces instead."
   ]
  },
  {
   "cell_type": "markdown",
   "metadata": {},
   "source": [
    "Greek letters are simply their names, with the capital forms being capitalized."
   ]
  },
  {
   "cell_type": "markdown",
   "metadata": {},
   "source": [
    "$\\theta = \\Theta$"
   ]
  },
  {
   "cell_type": "markdown",
   "metadata": {},
   "source": [
    "Parentheses and brackets typically work well automatically, but if you need bigger or smaller ones, do it by semantically notating the position of the parentheses with `\\left` or `\\right`\n",
    "\n",
    "$\\left[ \\left( (x^2) + (y^2) \\right)^2 \\right]$"
   ]
  },
  {
   "cell_type": "markdown",
   "metadata": {},
   "source": [
    "Here's the notation for some other useful things"
   ]
  },
  {
   "cell_type": "markdown",
   "metadata": {},
   "source": [
    "$\\int_{-\\infty}^{\\infty} e^{-x^2}dx$\n",
    "\n",
    "$\\sum_{i=0}^N$\n",
    "\n",
    "$ \\frac{\\partial y}{\\partial x}$ = $ \\frac{1}{2}$\n",
    "\n"
   ]
  },
  {
   "cell_type": "code",
   "execution_count": null,
   "metadata": {},
   "outputs": [],
   "source": []
  },
  {
   "cell_type": "code",
   "execution_count": null,
   "metadata": {},
   "outputs": [],
   "source": []
  },
  {
   "cell_type": "code",
   "execution_count": null,
   "metadata": {},
   "outputs": [],
   "source": []
  }
 ],
 "metadata": {
  "kernelspec": {
   "display_name": "Python 3",
   "language": "python",
   "name": "python3"
  },
  "language_info": {
   "codemirror_mode": {
    "name": "ipython",
    "version": 3
   },
   "file_extension": ".py",
   "mimetype": "text/x-python",
   "name": "python",
   "nbconvert_exporter": "python",
   "pygments_lexer": "ipython3",
   "version": "3.6.8"
  }
 },
 "nbformat": 4,
 "nbformat_minor": 1
}
